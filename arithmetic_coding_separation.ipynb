{
 "cells": [
  {
   "cell_type": "code",
   "execution_count": 1,
   "metadata": {},
   "outputs": [],
   "source": [
    "import numpy as np\n",
    "import os\n",
    "import struct\n",
    "import h5py\n",
    "import encoder_init as encoder\n",
    "import decoder_init as decoder\n",
    "import time"
   ]
  },
  {
   "cell_type": "code",
   "execution_count": 2,
   "metadata": {},
   "outputs": [],
   "source": [
    "def write_hdf5(x,filename):\n",
    "    with h5py.File(filename, 'w') as h:\n",
    "        h.create_dataset('data', data=x, shape=x.shape)"
   ]
  },
  {
   "cell_type": "code",
   "execution_count": 3,
   "metadata": {},
   "outputs": [],
   "source": [
    "def show_data(x_in, pre_in):\n",
    "    mean = np.mean(x_in)\n",
    "    std = np.std(x_in)\n",
    "    Max = np.max(x_in)\n",
    "    Min = np.min(x_in)\n",
    "    dtype = x_in.dtype\n",
    "\n",
    "    print(pre_in + ' shape: ' + str(x_in.shape) + ' , type: ' + str(dtype) + ' , mean = ' + str(mean)\n",
    "          + ' , std = ' + str(std) + ' , Max = ' + str(Max) + ' , Min = ' + str(Min))"
   ]
  },
  {
   "cell_type": "code",
   "execution_count": 4,
   "metadata": {},
   "outputs": [
    {
     "name": "stdout",
     "output_type": "stream",
     "text": [
      "dt shape: (256, 480, 3) , type: int64 , mean = 51.25754665798611 , std = 16.108059139496902 , Max = 94 , Min = 13\n"
     ]
    }
   ],
   "source": [
    "fname = '../H5_tmp/comp_3chan_10bit_floor.h5'\n",
    "ftmp=h5py.File(fname,'r')\n",
    "dt=ftmp['data'][:]\n",
    "dt=dt.astype(np.int64)\n",
    "show_data(dt, 'dt')"
   ]
  },
  {
   "cell_type": "code",
   "execution_count": 5,
   "metadata": {},
   "outputs": [
    {
     "name": "stdout",
     "output_type": "stream",
     "text": [
      "\n",
      "channel 0\n",
      "a shape: (122880,) , type: int64 , mean = 41.343684895833334 , std = 8.507753194371258 , Max = 70 , Min = 13\n",
      "encode_run_time : 2.333163\n",
      "fsize= 72677\n",
      "decode_run_time : 1.988313\n",
      "rec shape: (122880,) , type: int64 , mean = 41.343684895833334 , std = 8.507753194371258 , Max = 70 , Min = 13\n",
      "mse= 0.0\n",
      "ratio= 0.591446940104\n",
      "\n",
      "channel 1\n",
      "a shape: (122880,) , type: int64 , mean = 46.79733072916667 , std = 11.288949763162275 , Max = 67 , Min = 14\n",
      "encode_run_time : 2.000639\n",
      "fsize= 77876\n",
      "decode_run_time : 2.022813\n",
      "rec shape: (122880,) , type: int64 , mean = 46.79733072916667 , std = 11.288949763162275 , Max = 67 , Min = 14\n",
      "mse= 0.0\n",
      "ratio= 0.633756510417\n",
      "\n",
      "channel 2\n",
      "a shape: (122880,) , type: int64 , mean = 65.63162434895834 , std = 15.93091855217953 , Max = 94 , Min = 14\n",
      "encode_run_time : 2.048122\n",
      "fsize= 85961\n",
      "decode_run_time : 2.011748\n",
      "rec shape: (122880,) , type: int64 , mean = 65.63162434895834 , std = 15.93091855217953 , Max = 94 , Min = 14\n",
      "mse= 0.0\n",
      "ratio= 0.699552408854\n"
     ]
    }
   ],
   "source": [
    "for i in range(3):\n",
    "    print('\\nchannel %d'%(i))\n",
    "    a = dt[:,:,i].flatten()\n",
    "    show_data(a, 'a')\n",
    "    \n",
    "    start = time.clock()\n",
    "    encoder.encode_data(a,'./TMP_files/encode_data.txt')\n",
    "    end = time.clock()\n",
    "    print('encode_run_time : ' + str(end-start))\n",
    "\n",
    "    fsize = os.path.getsize('./TMP_files/encode_data.txt')\n",
    "    print('fsize= ' + str(fsize))\n",
    "    \n",
    "    start = time.clock()\n",
    "    ee = decoder.decode_data('./TMP_files/encode_data.txt','./TMP_files/decode_data.txt')\n",
    "    end = time.clock()\n",
    "    print('decode_run_time : ' + str(end-start))\n",
    "    rec = np.array(ee)\n",
    "\n",
    "    show_data(rec,'rec')\n",
    "\n",
    "    mse = np.mean(np.square(rec-a))\n",
    "    print('mse= ' + str(mse))\n",
    "\n",
    "    ratio = float(fsize)/float(len(a))\n",
    "    print('ratio= ' + str(ratio))"
   ]
  },
  {
   "cell_type": "markdown",
   "metadata": {},
   "source": [
    "## Together"
   ]
  },
  {
   "cell_type": "code",
   "execution_count": 6,
   "metadata": {},
   "outputs": [
    {
     "name": "stdout",
     "output_type": "stream",
     "text": [
      "a shape: (368640,) , type: int64 , mean = 51.25754665798611 , std = 16.108059139496902 , Max = 94 , Min = 13\n"
     ]
    }
   ],
   "source": [
    "# fname = '../H5_tmp/comp_3chan_10bit_floor.h5'\n",
    "# ftmp=h5py.File(fname,'r')\n",
    "# dt=ftmp['data'][:]\n",
    "# dt=dt.astype(np.int64)\n",
    "# show_data(dt, 'dt')\n",
    "a = dt.flatten()\n",
    "show_data(a, 'a')"
   ]
  },
  {
   "cell_type": "code",
   "execution_count": 7,
   "metadata": {},
   "outputs": [
    {
     "name": "stdout",
     "output_type": "stream",
     "text": [
      "encode_run_time : 7.618402\n",
      "fsize= 267031\n"
     ]
    }
   ],
   "source": [
    "start = time.clock()\n",
    "encoder.encode_data(a,'./TMP_files/encode_data.txt')\n",
    "end = time.clock()\n",
    "print('encode_run_time : ' + str(end-start))\n",
    "\n",
    "fsize = os.path.getsize('./TMP_files/encode_data.txt')\n",
    "print('fsize= ' + str(fsize))"
   ]
  },
  {
   "cell_type": "code",
   "execution_count": 8,
   "metadata": {},
   "outputs": [
    {
     "name": "stdout",
     "output_type": "stream",
     "text": [
      "decode_run_time : 6.252281\n",
      "rec shape: (368640,) , type: int64 , mean = 51.25754665798611 , std = 16.108059139496902 , Max = 94 , Min = 13\n",
      "mse= 0.0\n",
      "ratio= 0.724367947049\n"
     ]
    }
   ],
   "source": [
    "start = time.clock()\n",
    "ee = decoder.decode_data('./TMP_files/encode_data.txt','./TMP_files/decode_data.txt')\n",
    "end = time.clock()\n",
    "print('decode_run_time : ' + str(end-start))\n",
    "rec = np.array(ee)\n",
    "\n",
    "show_data(rec,'rec')\n",
    "\n",
    "mse = np.mean(np.square(rec-a))\n",
    "print('mse= ' + str(mse))\n",
    "\n",
    "ratio = float(fsize)/float(len(a))\n",
    "print('ratio= ' + str(ratio))"
   ]
  },
  {
   "cell_type": "code",
   "execution_count": null,
   "metadata": {},
   "outputs": [],
   "source": []
  }
 ],
 "metadata": {
  "kernelspec": {
   "display_name": "Python 2",
   "language": "python",
   "name": "python2"
  },
  "language_info": {
   "codemirror_mode": {
    "name": "ipython",
    "version": 2
   },
   "file_extension": ".py",
   "mimetype": "text/x-python",
   "name": "python",
   "nbconvert_exporter": "python",
   "pygments_lexer": "ipython2",
   "version": "2.7.15"
  }
 },
 "nbformat": 4,
 "nbformat_minor": 2
}
