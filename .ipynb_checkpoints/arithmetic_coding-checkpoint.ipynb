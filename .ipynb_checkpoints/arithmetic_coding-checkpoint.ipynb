{
 "cells": [
  {
   "cell_type": "code",
   "execution_count": 1,
   "metadata": {},
   "outputs": [],
   "source": [
    "import numpy as np\n",
    "import os\n",
    "import struct\n",
    "import h5py\n",
    "import encoder_init as encoder\n",
    "import decoder_init as decoder\n",
    "import time"
   ]
  },
  {
   "cell_type": "code",
   "execution_count": 2,
   "metadata": {},
   "outputs": [],
   "source": [
    "def write_hdf5(x,filename):\n",
    "    with h5py.File(filename, 'w') as h:\n",
    "        h.create_dataset('data', data=x, shape=x.shape)"
   ]
  },
  {
   "cell_type": "code",
   "execution_count": 3,
   "metadata": {},
   "outputs": [],
   "source": [
    "def show_data(x_in, pre_in):\n",
    "    mean = np.mean(x_in)\n",
    "    std = np.std(x_in)\n",
    "    Max = np.max(x_in)\n",
    "    Min = np.min(x_in)\n",
    "    dtype = x_in.dtype\n",
    "\n",
    "    print(pre_in + ' shape: ' + str(x_in.shape) + ' , type: ' + str(dtype) + ' , mean = ' + str(mean)\n",
    "          + ' , std = ' + str(std) + ' , Max = ' + str(Max) + ' , Min = ' + str(Min))"
   ]
  },
  {
   "cell_type": "code",
   "execution_count": 4,
   "metadata": {},
   "outputs": [
    {
     "name": "stdout",
     "output_type": "stream",
     "text": [
      "dt shape: (256, 480, 3) , type: int64 , mean = 51.25754665798611 , std = 16.108059139496902 , Max = 94 , Min = 13\n",
      "a shape: (368640,) , type: int64 , mean = 51.25754665798611 , std = 16.108059139496902 , Max = 94 , Min = 13\n"
     ]
    }
   ],
   "source": [
    "fname = '../H5_tmp/comp_3chan_10bit_floor.h5'\n",
    "ftmp=h5py.File(fname,'r')\n",
    "dt=ftmp['data'][:]\n",
    "dt=dt.astype(np.int64)\n",
    "show_data(dt, 'dt')\n",
    "a = dt.flatten()\n",
    "show_data(a, 'a')"
   ]
  },
  {
   "cell_type": "code",
   "execution_count": 5,
   "metadata": {},
   "outputs": [
    {
     "name": "stdout",
     "output_type": "stream",
     "text": [
      "encode_run_time : 9.427476\n",
      "fsize= 267031\n"
     ]
    }
   ],
   "source": [
    "start = time.clock()\n",
    "encoder.encode_data(a,'./TMP_files/encode_data.txt')\n",
    "end = time.clock()\n",
    "print('encode_run_time : ' + str(end-start))\n",
    "\n",
    "fsize = os.path.getsize('./TMP_files/encode_data.txt')\n",
    "print('fsize= ' + str(fsize))"
   ]
  },
  {
   "cell_type": "code",
   "execution_count": 6,
   "metadata": {},
   "outputs": [
    {
     "name": "stdout",
     "output_type": "stream",
     "text": [
      "decode_run_time : 6.07523\n",
      "rec shape: (368640,) , type: int64 , mean = 51.25754665798611 , std = 16.108059139496902 , Max = 94 , Min = 13\n",
      "mse= 0.0\n",
      "ratio= 0.724367947049\n"
     ]
    }
   ],
   "source": [
    "start = time.clock()\n",
    "ee = decoder.decode_data('./TMP_files/encode_data.txt','./TMP_files/decode_data.txt')\n",
    "end = time.clock()\n",
    "print('decode_run_time : ' + str(end-start))\n",
    "rec = np.array(ee)\n",
    "\n",
    "show_data(rec,'rec')\n",
    "\n",
    "mse = np.mean(np.square(rec-a))\n",
    "print('mse= ' + str(mse))\n",
    "\n",
    "ratio = float(fsize)/float(len(a))\n",
    "print('ratio= ' + str(ratio))"
   ]
  },
  {
   "cell_type": "code",
   "execution_count": null,
   "metadata": {},
   "outputs": [],
   "source": []
  }
 ],
 "metadata": {
  "kernelspec": {
   "display_name": "Python 3",
   "language": "python",
   "name": "python3"
  },
  "language_info": {
   "codemirror_mode": {
    "name": "ipython",
    "version": 3
   },
   "file_extension": ".py",
   "mimetype": "text/x-python",
   "name": "python",
   "nbconvert_exporter": "python",
   "pygments_lexer": "ipython3",
   "version": "3.7.3"
  }
 },
 "nbformat": 4,
 "nbformat_minor": 2
}
